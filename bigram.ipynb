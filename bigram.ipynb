{
 "cells": [
  {
   "cell_type": "code",
   "execution_count": 22,
   "metadata": {},
   "outputs": [
    {
     "name": "stdout",
     "output_type": "stream",
     "text": [
      "cpu\n"
     ]
    }
   ],
   "source": [
    "# Importing all the important libraries\n",
    "import torch\n",
    "import torch.nn as nn\n",
    "from torch.nn import functional as F\n",
    "import mmap\n",
    "import random\n",
    "import pickle \n",
    "import argparse\n",
    "\n",
    "# Setting all the hyperparamters\n",
    "block_size = 8\n",
    "batch_size = 4\n",
    "max_iters = 3000\n",
    "learning_rate = 3e-4\n",
    "eval_iters = 50\n",
    "n_embd = 384\n",
    "n_head = 4\n",
    "n_layer = 4\n",
    "dropout = 0.2\n",
    "\n",
    "device = 'cuda' if torch.cuda.is_available() else 'cpu'\n",
    "print(device)"
   ]
  },
  {
   "cell_type": "code",
   "execution_count": 7,
   "metadata": {},
   "outputs": [
    {
     "name": "stdout",
     "output_type": "stream",
     "text": [
      "['\\n', ' ', '!', '\"', '&', \"'\", '(', ')', '*', ',', '-', '.', '1', '2', '3', '4', '5', '6', '8', ':', ';', '?', 'A', 'B', 'C', 'D', 'E', 'F', 'G', 'H', 'I', 'J', 'K', 'L', 'M', 'N', 'O', 'P', 'R', 'S', 'T', 'U', 'V', 'W', 'X', 'Y', 'Z', '[', ']', 'a', 'b', 'c', 'd', 'e', 'f', 'g', 'h', 'i', 'j', 'k', 'l', 'm', 'n', 'o', 'p', 'q', 'r', 's', 't', 'u', 'v', 'w', 'x', 'y', 'z', 'à', 'ê']\n",
      "77\n"
     ]
    }
   ],
   "source": [
    "# This is to read the text from the book\n",
    "with open('pride_and_prejudice.txt', 'r', encoding = 'utf-8') as f:\n",
    "    text = f.read()\n",
    "\n",
    "# print(len(text))  # Length of the text\n",
    "# print(text[:100]) # first 100 characters\n",
    "chars = sorted(set(text))\n",
    "print(chars)\n",
    "print(len(chars))"
   ]
  },
  {
   "cell_type": "code",
   "execution_count": 15,
   "metadata": {},
   "outputs": [
    {
     "name": "stdout",
     "output_type": "stream",
     "text": [
      "\" hello ? \" : [56, 53, 60, 60, 63, 1, 21]\n"
     ]
    }
   ],
   "source": [
    "# This is the code for the character-level tokenizer\n",
    "string_to_int = { ch:i for i, ch in enumerate(chars)}\n",
    "int_to_string = { i:ch for i, ch in enumerate(chars)}\n",
    "encode = lambda s: [string_to_int[c] for c in s]\n",
    "decode = lambda l: ''.join([int_to_string[i] for i in l])\n",
    "\n",
    "encoded_s = encode(\"hello\")\n",
    "decoded_s = decode(encoded_s)\n",
    "print(\"\\\" \" + str(decoded_s) + \" \\\" : \" + str(encoded_s))"
   ]
  },
  {
   "cell_type": "code",
   "execution_count": 19,
   "metadata": {},
   "outputs": [
    {
     "name": "stdout",
     "output_type": "stream",
     "text": [
      "tensor([37, 38, 30, 25, 26,  1,  4,  1, 37, 38, 26, 31, 41, 25, 30, 24, 26, 11,\n",
      "         0,  0,  0,  0,  0, 24, 29, 22, 37, 40, 26, 38,  1, 30, 11,  0,  0,  0,\n",
      "        30, 68,  1, 57, 67,  1, 49,  1, 68, 66, 69, 68, 56,  1, 69, 62, 57, 70,\n",
      "        53, 66, 67, 49, 60, 60, 73,  1, 49, 51, 59, 62, 63, 71, 60, 53, 52, 55,\n",
      "        53, 52,  9,  1, 68, 56, 49, 68,  1, 49,  1, 67, 57, 62, 55, 60, 53,  1,\n",
      "        61, 49, 62,  1, 57, 62,  1, 64, 63, 67])\n"
     ]
    }
   ],
   "source": [
    "# Better to use a PyTorch Tensors\n",
    "data = torch.tensor(encode(text), dtype = torch.long)\n",
    "print(data[:100])"
   ]
  },
  {
   "cell_type": "code",
   "execution_count": null,
   "metadata": {},
   "outputs": [],
   "source": [
    "# Dividing the dataset into train and validation\n",
    "n = int(0.8 * len(data))\n",
    "train_data = data[:n]\n",
    "val_data = data[n:]"
   ]
  },
  {
   "cell_type": "code",
   "execution_count": null,
   "metadata": {},
   "outputs": [],
   "source": []
  },
  {
   "cell_type": "code",
   "execution_count": null,
   "metadata": {},
   "outputs": [],
   "source": [
    "def get_batch(split):\n",
    "    data = train_data if split == 'train' else val_data\n",
    "    ix = torch.randint(len(data) - block_size, (batch_size,))\n",
    "    x = torch.stack([data[i : i + block_size] for i in ix])\n",
    "    y = torch.stack([data[i + 1 : i + block_size + 1] for i in ix])\n",
    "    x, y = x.to(device), y.to(device)\n",
    "\n",
    "    return x, y"
   ]
  }
 ],
 "metadata": {
  "kernelspec": {
   "display_name": "base",
   "language": "python",
   "name": "python3"
  },
  "language_info": {
   "codemirror_mode": {
    "name": "ipython",
    "version": 3
   },
   "file_extension": ".py",
   "mimetype": "text/x-python",
   "name": "python",
   "nbconvert_exporter": "python",
   "pygments_lexer": "ipython3",
   "version": "3.9.12"
  }
 },
 "nbformat": 4,
 "nbformat_minor": 2
}
